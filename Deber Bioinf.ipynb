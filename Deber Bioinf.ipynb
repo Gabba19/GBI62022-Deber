{
 "cells": [
  {
   "cell_type": "code",
   "execution_count": 13,
   "id": "39918aba",
   "metadata": {},
   "outputs": [],
   "source": [
    "#Importacion de librerias\n",
    "import re\n",
    "import csv\n",
    "import matplotlib.pyplot as plt\n"
   ]
  },
  {
   "cell_type": "code",
   "execution_count": 14,
   "id": "164994d0",
   "metadata": {},
   "outputs": [],
   "source": [
    "with open ('pubmed_heliconius_set.txt',\"r\", encoding='utf-8-sig') as f:\n",
    "    datos = f.read()\n",
    "    "
   ]
  },
  {
   "cell_type": "code",
   "execution_count": 15,
   "id": "3ac15559",
   "metadata": {},
   "outputs": [
    {
     "name": "stdout",
     "output_type": "stream",
     "text": [
      "[', Inc.\\n', ', Brazil.\\n', ', Brazil.\\n', ', Brazil.\\n', ', Brazil.\\n', ', Brazil.\\n', ', Brazil.\\n', ', Brazil.\\n', ', Brazil.\\n', ', Brazil.\\n', ', Brazil.\\n', ', Brazil.\\n', ', Brazil.\\n', ', Brazil.\\n', ', Brazil.\\n', ', France.\\n', ', Germany.\\n', ', Germany.\\n', ', Germany.\\n', ', Germany.\\n', ', Germany.\\n', ', USA.\\n', ', Germany.\\n', ', Colombia.\\n', ', Ecuador.\\n', ', Ecuador.\\n', ', Ecuador.\\n', ', France.\\n', ', USA. ', ', USA.\\n', ', USA.\\n', ', USA.\\n', ', USA.\\n', ', USA.\\n', ', USA.\\n', ', USA.\\n', ', USA.\\n', ', USA.\\n', ', Ecuador.\\n', ', Panama.\\n', ', USA.\\n', ', Panama.\\n', ', USA.\\n', ', USA.\\n', ', Colombia.\\n', ', USA.\\n', ', USA.\\n', ', Univ. ', ', Brazil.\\n', ', Univ. ', ', Univ. ', ', Brazil. ', ', USA.\\n', ', USA.\\n', ', USA.\\n', ', USA. ', ', USA.\\n', ', USA. ', ', USA. ', ', Australia. ', ', USA. ', ', USA. ', ', USA.\\n', ', USA. ', ', USA.\\n', ', Brazil.\\n', ', Brazil.\\n', ', Brazil.\\n', ', Brazil.\\n', ', USA. ', ', France.\\n', ', USA.\\n', ', Brasil.\\n', ', Colombia. ', ', Brazil.\\n', ', USA. ', ', Germany. ', ', USA.\\n', ', USA.\\n', ', Colombia. ', ', USA.\\n', ', Panama.\\n', ', USA.\\n', ', Colombia.\\n', ', Panama.\\n', ', USA.\\n', ', Panama.\\n', ', USA. ', ', Finland.\\n', ', Finland.\\n', ', Finland.\\n', ', Sweden.\\n', ', Panama.\\n', ', Ecuador.\\n', ', Finland.\\n', ', Finland.\\n', ', China.\\n', ', Panama.\\n', ', Switzerland. ', ', USA.\\n', ', Brazil. ', ', Panama.\\n', ', France.\\n', ', Panama.\\n', ', Panama.\\n', ', Colombia.\\n', ', Panama.\\n', ', Colombia.\\n', ', Colombia.\\n', ', Panama.\\n', ', Germany.\\n', ', Panama.\\n', ', Panama.\\n', ', USA. ', ', USA. ', ', Inc.\\n', ', Germany.\\n', ', Ecuador.\\n', ', Ecuador.\\n', ', Germany.\\n', ', France. ', ', Germany.\\n', ', Germany.\\n', ', Ecuador.\\n', ', Canada.\\n', ', Austria.\\n', ', Japan.\\n', ', Japan.\\n', ', USA. ', ', Brasil. ', ', Brasil. ', ', Brasil.\\n', ', Brasil.\\n', ', USA. ', ', USA. ', ', Ecuador.\\n', ', Finland.\\n', ', Brazil.\\n', ', Brazil.\\n', ', Brazil.\\n', ', Brazil.\\n', ', USA. ', ', Australia.\\n', ', Cuba.\\n', ', Brazil.\\n', ', Brazil.\\n', ', Brazil.\\n', ', Colombia.\\n', ', Colombia.\\n', ', Colombia.\\n', ', Panama.\\n', ', Australia.\\n', ', Panama.\\n', ', Carrera. ', ', Colombia.\\n', ', Panama.\\n', ', USA.\\n', ', USA.\\n', ', Carrera. ', ', Colombia.\\n', ', Carrera. ', ', Colombia.\\n', ', USA.\\n', ', Panama.\\n', ', Brazil.\\n', ', Ctra. ', ', Brazil.\\n', ', Brazil.\\n', ', Sweden. ', ', Ecuador.\\n', ', USA. ', ', Panama. ', ', Finland.\\n', ', USA. ', ', USA. ', ', Colombia. ', ', Colombia. ', ', USA. ', ', USA.\\n', ', Brazil.\\n', ', USA. ', ', England.\\n', ', England.\\n', ', England.\\n', ', Brazil.\\n', ', USA. ', ', Japan. ', ', Brazil. ', ', USA.\\n']\n"
     ]
    }
   ],
   "source": [
    "datos = re.sub(r'\\n\\s{6}', ' ', datos)\n",
    "dat= re.findall (r\"\\,\\s[A-Z]+[A-z]{2,11}\\.\\s\", datos)\n",
    "print(dat)\n"
   ]
  },
  {
   "cell_type": "code",
   "execution_count": 22,
   "id": "347c6c7c",
   "metadata": {},
   "outputs": [],
   "source": [
    "unique_dat = list(set(dat))\n",
    "unique_dat.sort()\n"
   ]
  },
  {
   "cell_type": "code",
   "execution_count": 17,
   "id": "4aa72feb",
   "metadata": {},
   "outputs": [],
   "source": [
    "zip_coordinates = {}\n",
    "with open('coordinates.txt') as f:\n",
    "    csvr = csv.DictReader(f)\n",
    "    for row in csvr:\n",
    "        zip_coordinates[row['ZIP']] = [float(row['LAT']), \n",
    "                                       float(row['LNG'])]\n",
    "zip_code = []\n",
    "zip_long = []\n",
    "zip_lat = []\n",
    "zip_count = []"
   ]
  },
  {
   "cell_type": "code",
   "execution_count": 19,
   "id": "1e9ae302",
   "metadata": {},
   "outputs": [],
   "source": [
    "for z in unique_dat:\n",
    "    # if we can find the coordinates\n",
    "    if z in zip_coordinates.keys():\n",
    "        zip_code.append(z)\n",
    "        zip_lat.append(zip_coordinates[z][0])\n",
    "        zip_long.append(zip_coordinates[z][1])\n",
    "        zip_count.append(zipcodes.count(z))"
   ]
  },
  {
   "cell_type": "code",
   "execution_count": 34,
   "id": "225e2305",
   "metadata": {},
   "outputs": [
    {
     "data": {
      "image/png": "[encoded data removed]",
      "text/plain": [
       "<Figure size 1296x864 with 2 Axes>"
      ]
     },
     "metadata": {
      "needs_background": "light"
     },
     "output_type": "display_data"
    }
   ],
   "source": [
    "#Grafica \n",
    "%matplotlib inline\n",
    "plt.scatter(zip_long, zip_lat, s = zip_count, c= zip_count)\n",
    "plt.colorbar()\n",
    "# only continental us without Alaska\n",
    "plt.xlim(-95,133)\n",
    "plt.ylim(-25, 65)\n",
    "\n",
    "ard = dict(arrowstyle=\"->\")\n",
    "plt.annotate('USA', xy = (-95.712891, 37.09024), \n",
    "               xytext = (-95.712891, 40), arrowprops = ard,color = 'tab:purple')\n",
    "plt.annotate('UKRAINE', xy = (31.16558,48.379433), \n",
    "               xytext = (31.16558,51), arrowprops= ard)\n",
    "plt.annotate('BRAZIL', xy = (-51.92528, -14.235004), \n",
    "               xytext = (-51.92528, -11), arrowprops= ard, color = 'tab:orange')\n",
    "plt.annotate('CHINA', xy = (104.195397, 35.86166), \n",
    "               xytext = (104.195397, 39), arrowprops= ard, color = 'tab:blue')\n",
    "plt.annotate('AUSTRALIA', xy = (133.775136, -25.274398), \n",
    "               xytext = (133.775136, -22), arrowprops= ard, color = 'tab:green')\n",
    "plt.annotate('NORWAY', xy = (8.468946, 60.472024), \n",
    "               xytext = (8.468946, 63), arrowprops= ard, color = 'tab:red')\n",
    "\n",
    "params = plt.gcf()\n",
    "plSize = params.get_size_inches()\n",
    "params.set_size_inches( (plSize[0] * 3, plSize[1] * 3) )\n",
    "plt.show()"
   ]
  },
  {
   "cell_type": "code",
   "execution_count": null,
   "id": "b29158df",
   "metadata": {},
   "outputs": [],
   "source": []
  }
 ],
 "metadata": {
  "kernelspec": {
   "display_name": "Python 3",
   "language": "python",
   "name": "python3"
  },
  "language_info": {
   "codemirror_mode": {
    "name": "ipython",
    "version": 3
   },
   "file_extension": ".py",
   "mimetype": "text/x-python",
   "name": "python",
   "nbconvert_exporter": "python",
   "pygments_lexer": "ipython3",
   "version": "3.8.8"
  }
 },
 "nbformat": 4,
 "nbformat_minor": 5
}
